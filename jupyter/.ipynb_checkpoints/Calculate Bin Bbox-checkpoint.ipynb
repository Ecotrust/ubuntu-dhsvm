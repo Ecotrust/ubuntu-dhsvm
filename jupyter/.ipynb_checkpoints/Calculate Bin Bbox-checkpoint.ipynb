{
 "cells": [
  {
   "cell_type": "code",
   "execution_count": 1,
   "metadata": {},
   "outputs": [
    {
     "name": "stdout",
     "output_type": "stream",
     "text": [
      "NW Corner: POINT (510820.7258 1569101.1592)\n",
      "Centroid: POINT (-120.7878 47.713149)\n"
     ]
    }
   ],
   "source": [
    "# REQUIREMENT: Install GDAL \n",
    "#     * sudo apt install libgdal-dev\n",
    "#     * pip install pygdal==\"`gdal-config --version`.*\"\n",
    "from osgeo import ogr, osr\n",
    "\n",
    "prj_text = 'PROJCS[\"NAD_1983_USFS_R6_Albers\",GEOGCS[\"GCS_North_American_1983\",DATUM[\"D_North_American_1983\",SPHEROID[\"GRS_1980\",6378137.0,298.257222101]],PRIMEM[\"Greenwich\",0.0],UNIT[\"Degree\",0.0174532925199433]],PROJECTION[\"Albers\"],PARAMETER[\"False_Easting\",600000.0],PARAMETER[\"False_Northing\",0.0],PARAMETER[\"Central_Meridian\",-120.0],PARAMETER[\"Standard_Parallel_1\",43.0],PARAMETER[\"Standard_Parallel_2\",48.0],PARAMETER[\"Latitude_Of_Origin\",34.0],UNIT[\"Meter\",1.0]]'\n",
    "e_north = 1569101.1592\n",
    "e_west = 510820.7258\n",
    "\n",
    "ctr_srid = 4326\n",
    "ctr_lat = 47.713149\n",
    "ctr_lon = -120.7878\n",
    "\n",
    "srs = osr.SpatialReference()\n",
    "srs.ImportFromWkt(prj_text)\n",
    "\n",
    "wgs84 = osr.SpatialReference()\n",
    "wgs84.ImportFromEPSG(ctr_srid)\n",
    "\n",
    "#to_srid = osr.CoordinateTransformation(wgs84, srs)\n",
    "#to_wgs84 = osr.CoordinateTransformation(srs, wgs84)\n",
    "\n",
    "nw_corner = ogr.CreateGeometryFromWkt('POINT (%f %f)' % (e_west, e_north))\n",
    "centroid = ogr.CreateGeometryFromWkt('POINT (%f %f)' % (ctr_lon, ctr_lat))\n",
    "#centroid.Transform(to_srid)\n",
    "\n",
    "print(\"NW Corner: %s\" % nw_corner.ExportToWkt())\n",
    "print(\"Centroid: %s\" % centroid.ExportToWkt())"
   ]
  },
  {
   "cell_type": "code",
   "execution_count": 2,
   "metadata": {},
   "outputs": [
    {
     "name": "stdout",
     "output_type": "stream",
     "text": [
      "1468031.1592\n",
      "POINT (510820.7258 1468031.1592)\n"
     ]
    }
   ],
   "source": [
    "num_rows = 1123\n",
    "num_cols = 729\n",
    "cellsize = 90\n",
    "e_south = e_north - cellsize*num_rows\n",
    "sw_corner = ogr.CreateGeometryFromWkt('POINT (%f %f)' % (e_west, e_south))\n",
    "print(e_south)\n",
    "print(sw_corner.ExportToWkt())\n"
   ]
  },
  {
   "cell_type": "code",
   "execution_count": 3,
   "metadata": {},
   "outputs": [
    {
     "name": "stdout",
     "output_type": "stream",
     "text": [
      "Wgs distance: 0.908752\n",
      "Pnnl distance: 101070.000000\n",
      "101070\n"
     ]
    }
   ],
   "source": [
    "# Requires pyproj, installable via pip\n",
    "from pyproj import CRS, Transformer\n",
    "wena_crs = CRS.from_wkt('PROJCS[\"NAD_1983_USFS_R6_Albers\",GEOGCS[\"GCS_North_American_1983\",DATUM[\"D_North_American_1983\",SPHEROID[\"GRS_1980\",6378137.0,298.257222101]],PRIMEM[\"Greenwich\",0.0],UNIT[\"Degree\",0.0174532925199433]],PROJECTION[\"Albers\"],PARAMETER[\"False_Easting\",600000.0],PARAMETER[\"False_Northing\",0.0],PARAMETER[\"Central_Meridian\",-120.0],PARAMETER[\"Standard_Parallel_1\",43.0],PARAMETER[\"Standard_Parallel_2\",48.0],PARAMETER[\"Latitude_Of_Origin\",34.0],UNIT[\"Meter\",1.0]]')\n",
    "crs_4326 = CRS.from_epsg(4326)\n",
    "transformer = Transformer.from_crs(wena_crs, crs_4326)\n",
    "(e_north_4326, e_west_4326) = transformer.transform(e_west, e_north)\n",
    "(e_south_4326, e_west_4326) = transformer.transform(e_west, e_south)\n",
    "\n",
    "nw_corner_4326 = ogr.CreateGeometryFromWkt('POINT (%f %f)' % (e_west_4326, e_north_4326))\n",
    "sw_corner_4326 = ogr.CreateGeometryFromWkt('POINT (%f %f)' % (e_west_4326, e_south_4326))\n",
    "\n",
    "wgs_dist = nw_corner_4326.Distance(sw_corner_4326)\n",
    "pnnl_dist = nw_corner.Distance(sw_corner)\n",
    "print(\"Wgs distance: %f\" % wgs_dist)\n",
    "print(\"Pnnl distance: %f\" % pnnl_dist)\n",
    "print(cellsize*num_rows)"
   ]
  },
  {
   "cell_type": "code",
   "execution_count": null,
   "metadata": {},
   "outputs": [],
   "source": [
    "# see https://gis.stackexchange.com/a/328642/53225 for shapely soln\n",
    "\n",
    "# TODO: pull a basin from a shapefile, transform to the custom PNNL CRS...\n",
    "#   Maybe loop through all basins in the shapefile, maybe pull one out by stream ID\n",
    "#   Final soln may be pre-made mask.asc files instead of shapefile, named by Stream ID\n",
    "#       This would use reading features into rasterio, then burning them into a raster\n",
    "#           https://rasterio.readthedocs.io/en/latest/topics/features.html#burning-shapes-into-a-raster"
   ]
  },
  {
   "cell_type": "code",
   "execution_count": null,
   "metadata": {},
   "outputs": [],
   "source": [
    "# TODO: read in Wena 2020 mask\n",
    "#   Clip it to the selected feature from the last section.\n",
    "#   Exported clip should be an asc with the same extent and NODATA value"
   ]
  }
 ],
 "metadata": {
  "kernelspec": {
   "display_name": "Python 3",
   "language": "python",
   "name": "python3"
  },
  "language_info": {
   "codemirror_mode": {
    "name": "ipython",
    "version": 3
   },
   "file_extension": ".py",
   "mimetype": "text/x-python",
   "name": "python",
   "nbconvert_exporter": "python",
   "pygments_lexer": "ipython3",
   "version": "3.6.9"
  }
 },
 "nbformat": 4,
 "nbformat_minor": 4
}
